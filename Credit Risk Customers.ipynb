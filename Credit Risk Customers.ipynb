{
 "cells": [
  {
   "cell_type": "markdown",
   "id": "51b53c9c",
   "metadata": {},
   "source": [
    "## WELCOME TO CUSTOMERS CREDIT RISK DATA ANALYSIS"
   ]
  },
  {
   "cell_type": "markdown",
   "id": "b5040a83",
   "metadata": {},
   "source": [
    "Dataset source: https://www.kaggle.com/datasets/ppb00x/credit-risk-customers\n",
    "\n",
    "Dataset explanation:\n",
    "The dataset is not a real data (I think). It's very messy and needs a lot of manipulation for it be ready to baked in the machine learning oven.\n",
    "\n",
    "Intention of Analysis:\n",
    "The focus of this analysis is to do extensive data cleaning and feature engineering, with a little bit of prediction in regards to what customers should be given credits."
   ]
  },
  {
   "cell_type": "markdown",
   "id": "5d0a5840",
   "metadata": {},
   "source": [
    "First and foremost, importing all the necessary tools to do the analysis"
   ]
  },
  {
   "cell_type": "code",
   "execution_count": 1,
   "id": "9caa46ea",
   "metadata": {},
   "outputs": [],
   "source": [
    "import pandas as pd\n",
    "import numpy as np\n",
    "import matplotlib.pyplot as plt\n",
    "import seaborn as sns\n",
    "from sklearn.model_selection import train_test_split\n",
    "from sklearn import metrics\n",
    "from sklearn.metrics import classification_report, confusion_matrix\n",
    "from sklearn.tree import DecisionTreeClassifier\n",
    "from sklearn.ensemble import RandomForestClassifier"
   ]
  },
  {
   "cell_type": "code",
   "execution_count": 2,
   "id": "94b62b8d",
   "metadata": {},
   "outputs": [],
   "source": [
    "data = pd.read_csv(\"credit_customers.csv\")"
   ]
  },
  {
   "cell_type": "markdown",
   "id": "b2b3ed6d",
   "metadata": {},
   "source": [
    "Don't forget that sweet exploration of the data to discover if the data are normal and if it need any change"
   ]
  },
  {
   "cell_type": "code",
   "execution_count": 3,
   "id": "5aed4a5f",
   "metadata": {},
   "outputs": [
    {
     "data": {
      "text/html": [
       "<div>\n",
       "<style scoped>\n",
       "    .dataframe tbody tr th:only-of-type {\n",
       "        vertical-align: middle;\n",
       "    }\n",
       "\n",
       "    .dataframe tbody tr th {\n",
       "        vertical-align: top;\n",
       "    }\n",
       "\n",
       "    .dataframe thead th {\n",
       "        text-align: right;\n",
       "    }\n",
       "</style>\n",
       "<table border=\"1\" class=\"dataframe\">\n",
       "  <thead>\n",
       "    <tr style=\"text-align: right;\">\n",
       "      <th></th>\n",
       "      <th>checking_status</th>\n",
       "      <th>duration</th>\n",
       "      <th>credit_history</th>\n",
       "      <th>purpose</th>\n",
       "      <th>credit_amount</th>\n",
       "      <th>savings_status</th>\n",
       "      <th>employment</th>\n",
       "      <th>installment_commitment</th>\n",
       "      <th>personal_status</th>\n",
       "      <th>other_parties</th>\n",
       "      <th>...</th>\n",
       "      <th>property_magnitude</th>\n",
       "      <th>age</th>\n",
       "      <th>other_payment_plans</th>\n",
       "      <th>housing</th>\n",
       "      <th>existing_credits</th>\n",
       "      <th>job</th>\n",
       "      <th>num_dependents</th>\n",
       "      <th>own_telephone</th>\n",
       "      <th>foreign_worker</th>\n",
       "      <th>class</th>\n",
       "    </tr>\n",
       "  </thead>\n",
       "  <tbody>\n",
       "    <tr>\n",
       "      <th>0</th>\n",
       "      <td>&lt;0</td>\n",
       "      <td>6.0</td>\n",
       "      <td>critical/other existing credit</td>\n",
       "      <td>radio/tv</td>\n",
       "      <td>1169.0</td>\n",
       "      <td>no known savings</td>\n",
       "      <td>&gt;=7</td>\n",
       "      <td>4.0</td>\n",
       "      <td>male single</td>\n",
       "      <td>none</td>\n",
       "      <td>...</td>\n",
       "      <td>real estate</td>\n",
       "      <td>67.0</td>\n",
       "      <td>none</td>\n",
       "      <td>own</td>\n",
       "      <td>2.0</td>\n",
       "      <td>skilled</td>\n",
       "      <td>1.0</td>\n",
       "      <td>yes</td>\n",
       "      <td>yes</td>\n",
       "      <td>good</td>\n",
       "    </tr>\n",
       "    <tr>\n",
       "      <th>1</th>\n",
       "      <td>0&lt;=X&lt;200</td>\n",
       "      <td>48.0</td>\n",
       "      <td>existing paid</td>\n",
       "      <td>radio/tv</td>\n",
       "      <td>5951.0</td>\n",
       "      <td>&lt;100</td>\n",
       "      <td>1&lt;=X&lt;4</td>\n",
       "      <td>2.0</td>\n",
       "      <td>female div/dep/mar</td>\n",
       "      <td>none</td>\n",
       "      <td>...</td>\n",
       "      <td>real estate</td>\n",
       "      <td>22.0</td>\n",
       "      <td>none</td>\n",
       "      <td>own</td>\n",
       "      <td>1.0</td>\n",
       "      <td>skilled</td>\n",
       "      <td>1.0</td>\n",
       "      <td>none</td>\n",
       "      <td>yes</td>\n",
       "      <td>bad</td>\n",
       "    </tr>\n",
       "    <tr>\n",
       "      <th>2</th>\n",
       "      <td>no checking</td>\n",
       "      <td>12.0</td>\n",
       "      <td>critical/other existing credit</td>\n",
       "      <td>education</td>\n",
       "      <td>2096.0</td>\n",
       "      <td>&lt;100</td>\n",
       "      <td>4&lt;=X&lt;7</td>\n",
       "      <td>2.0</td>\n",
       "      <td>male single</td>\n",
       "      <td>none</td>\n",
       "      <td>...</td>\n",
       "      <td>real estate</td>\n",
       "      <td>49.0</td>\n",
       "      <td>none</td>\n",
       "      <td>own</td>\n",
       "      <td>1.0</td>\n",
       "      <td>unskilled resident</td>\n",
       "      <td>2.0</td>\n",
       "      <td>none</td>\n",
       "      <td>yes</td>\n",
       "      <td>good</td>\n",
       "    </tr>\n",
       "    <tr>\n",
       "      <th>3</th>\n",
       "      <td>&lt;0</td>\n",
       "      <td>42.0</td>\n",
       "      <td>existing paid</td>\n",
       "      <td>furniture/equipment</td>\n",
       "      <td>7882.0</td>\n",
       "      <td>&lt;100</td>\n",
       "      <td>4&lt;=X&lt;7</td>\n",
       "      <td>2.0</td>\n",
       "      <td>male single</td>\n",
       "      <td>guarantor</td>\n",
       "      <td>...</td>\n",
       "      <td>life insurance</td>\n",
       "      <td>45.0</td>\n",
       "      <td>none</td>\n",
       "      <td>for free</td>\n",
       "      <td>1.0</td>\n",
       "      <td>skilled</td>\n",
       "      <td>2.0</td>\n",
       "      <td>none</td>\n",
       "      <td>yes</td>\n",
       "      <td>good</td>\n",
       "    </tr>\n",
       "    <tr>\n",
       "      <th>4</th>\n",
       "      <td>&lt;0</td>\n",
       "      <td>24.0</td>\n",
       "      <td>delayed previously</td>\n",
       "      <td>new car</td>\n",
       "      <td>4870.0</td>\n",
       "      <td>&lt;100</td>\n",
       "      <td>1&lt;=X&lt;4</td>\n",
       "      <td>3.0</td>\n",
       "      <td>male single</td>\n",
       "      <td>none</td>\n",
       "      <td>...</td>\n",
       "      <td>no known property</td>\n",
       "      <td>53.0</td>\n",
       "      <td>none</td>\n",
       "      <td>for free</td>\n",
       "      <td>2.0</td>\n",
       "      <td>skilled</td>\n",
       "      <td>2.0</td>\n",
       "      <td>none</td>\n",
       "      <td>yes</td>\n",
       "      <td>bad</td>\n",
       "    </tr>\n",
       "  </tbody>\n",
       "</table>\n",
       "<p>5 rows × 21 columns</p>\n",
       "</div>"
      ],
      "text/plain": [
       "  checking_status  duration                  credit_history  \\\n",
       "0              <0       6.0  critical/other existing credit   \n",
       "1        0<=X<200      48.0                   existing paid   \n",
       "2     no checking      12.0  critical/other existing credit   \n",
       "3              <0      42.0                   existing paid   \n",
       "4              <0      24.0              delayed previously   \n",
       "\n",
       "               purpose  credit_amount    savings_status employment  \\\n",
       "0             radio/tv         1169.0  no known savings        >=7   \n",
       "1             radio/tv         5951.0              <100     1<=X<4   \n",
       "2            education         2096.0              <100     4<=X<7   \n",
       "3  furniture/equipment         7882.0              <100     4<=X<7   \n",
       "4              new car         4870.0              <100     1<=X<4   \n",
       "\n",
       "   installment_commitment     personal_status other_parties  ...  \\\n",
       "0                     4.0         male single          none  ...   \n",
       "1                     2.0  female div/dep/mar          none  ...   \n",
       "2                     2.0         male single          none  ...   \n",
       "3                     2.0         male single     guarantor  ...   \n",
       "4                     3.0         male single          none  ...   \n",
       "\n",
       "   property_magnitude   age  other_payment_plans   housing existing_credits  \\\n",
       "0         real estate  67.0                 none       own              2.0   \n",
       "1         real estate  22.0                 none       own              1.0   \n",
       "2         real estate  49.0                 none       own              1.0   \n",
       "3      life insurance  45.0                 none  for free              1.0   \n",
       "4   no known property  53.0                 none  for free              2.0   \n",
       "\n",
       "                  job num_dependents  own_telephone foreign_worker class  \n",
       "0             skilled            1.0            yes            yes  good  \n",
       "1             skilled            1.0           none            yes   bad  \n",
       "2  unskilled resident            2.0           none            yes  good  \n",
       "3             skilled            2.0           none            yes  good  \n",
       "4             skilled            2.0           none            yes   bad  \n",
       "\n",
       "[5 rows x 21 columns]"
      ]
     },
     "execution_count": 3,
     "metadata": {},
     "output_type": "execute_result"
    }
   ],
   "source": [
    "data.head()"
   ]
  },
  {
   "cell_type": "code",
   "execution_count": 4,
   "id": "3391de81",
   "metadata": {},
   "outputs": [
    {
     "data": {
      "text/plain": [
       "(1000, 21)"
      ]
     },
     "execution_count": 4,
     "metadata": {},
     "output_type": "execute_result"
    }
   ],
   "source": [
    "data.shape"
   ]
  },
  {
   "cell_type": "code",
   "execution_count": 5,
   "id": "935f00c0",
   "metadata": {},
   "outputs": [
    {
     "name": "stdout",
     "output_type": "stream",
     "text": [
      "<class 'pandas.core.frame.DataFrame'>\n",
      "RangeIndex: 1000 entries, 0 to 999\n",
      "Data columns (total 21 columns):\n",
      " #   Column                  Non-Null Count  Dtype  \n",
      "---  ------                  --------------  -----  \n",
      " 0   checking_status         1000 non-null   object \n",
      " 1   duration                1000 non-null   float64\n",
      " 2   credit_history          1000 non-null   object \n",
      " 3   purpose                 1000 non-null   object \n",
      " 4   credit_amount           1000 non-null   float64\n",
      " 5   savings_status          1000 non-null   object \n",
      " 6   employment              1000 non-null   object \n",
      " 7   installment_commitment  1000 non-null   float64\n",
      " 8   personal_status         1000 non-null   object \n",
      " 9   other_parties           1000 non-null   object \n",
      " 10  residence_since         1000 non-null   float64\n",
      " 11  property_magnitude      1000 non-null   object \n",
      " 12  age                     1000 non-null   float64\n",
      " 13  other_payment_plans     1000 non-null   object \n",
      " 14  housing                 1000 non-null   object \n",
      " 15  existing_credits        1000 non-null   float64\n",
      " 16  job                     1000 non-null   object \n",
      " 17  num_dependents          1000 non-null   float64\n",
      " 18  own_telephone           1000 non-null   object \n",
      " 19  foreign_worker          1000 non-null   object \n",
      " 20  class                   1000 non-null   object \n",
      "dtypes: float64(7), object(14)\n",
      "memory usage: 164.2+ KB\n"
     ]
    }
   ],
   "source": [
    "data.info()"
   ]
  },
  {
   "cell_type": "code",
   "execution_count": 6,
   "id": "aa5cf790",
   "metadata": {},
   "outputs": [
    {
     "data": {
      "text/html": [
       "<div>\n",
       "<style scoped>\n",
       "    .dataframe tbody tr th:only-of-type {\n",
       "        vertical-align: middle;\n",
       "    }\n",
       "\n",
       "    .dataframe tbody tr th {\n",
       "        vertical-align: top;\n",
       "    }\n",
       "\n",
       "    .dataframe thead th {\n",
       "        text-align: right;\n",
       "    }\n",
       "</style>\n",
       "<table border=\"1\" class=\"dataframe\">\n",
       "  <thead>\n",
       "    <tr style=\"text-align: right;\">\n",
       "      <th></th>\n",
       "      <th>duration</th>\n",
       "      <th>credit_amount</th>\n",
       "      <th>installment_commitment</th>\n",
       "      <th>residence_since</th>\n",
       "      <th>age</th>\n",
       "      <th>existing_credits</th>\n",
       "      <th>num_dependents</th>\n",
       "    </tr>\n",
       "  </thead>\n",
       "  <tbody>\n",
       "    <tr>\n",
       "      <th>count</th>\n",
       "      <td>1000.000000</td>\n",
       "      <td>1000.000000</td>\n",
       "      <td>1000.000000</td>\n",
       "      <td>1000.000000</td>\n",
       "      <td>1000.000000</td>\n",
       "      <td>1000.000000</td>\n",
       "      <td>1000.000000</td>\n",
       "    </tr>\n",
       "    <tr>\n",
       "      <th>mean</th>\n",
       "      <td>20.903000</td>\n",
       "      <td>3271.258000</td>\n",
       "      <td>2.973000</td>\n",
       "      <td>2.845000</td>\n",
       "      <td>35.546000</td>\n",
       "      <td>1.407000</td>\n",
       "      <td>1.155000</td>\n",
       "    </tr>\n",
       "    <tr>\n",
       "      <th>std</th>\n",
       "      <td>12.058814</td>\n",
       "      <td>2822.736876</td>\n",
       "      <td>1.118715</td>\n",
       "      <td>1.103718</td>\n",
       "      <td>11.375469</td>\n",
       "      <td>0.577654</td>\n",
       "      <td>0.362086</td>\n",
       "    </tr>\n",
       "    <tr>\n",
       "      <th>min</th>\n",
       "      <td>4.000000</td>\n",
       "      <td>250.000000</td>\n",
       "      <td>1.000000</td>\n",
       "      <td>1.000000</td>\n",
       "      <td>19.000000</td>\n",
       "      <td>1.000000</td>\n",
       "      <td>1.000000</td>\n",
       "    </tr>\n",
       "    <tr>\n",
       "      <th>25%</th>\n",
       "      <td>12.000000</td>\n",
       "      <td>1365.500000</td>\n",
       "      <td>2.000000</td>\n",
       "      <td>2.000000</td>\n",
       "      <td>27.000000</td>\n",
       "      <td>1.000000</td>\n",
       "      <td>1.000000</td>\n",
       "    </tr>\n",
       "    <tr>\n",
       "      <th>50%</th>\n",
       "      <td>18.000000</td>\n",
       "      <td>2319.500000</td>\n",
       "      <td>3.000000</td>\n",
       "      <td>3.000000</td>\n",
       "      <td>33.000000</td>\n",
       "      <td>1.000000</td>\n",
       "      <td>1.000000</td>\n",
       "    </tr>\n",
       "    <tr>\n",
       "      <th>75%</th>\n",
       "      <td>24.000000</td>\n",
       "      <td>3972.250000</td>\n",
       "      <td>4.000000</td>\n",
       "      <td>4.000000</td>\n",
       "      <td>42.000000</td>\n",
       "      <td>2.000000</td>\n",
       "      <td>1.000000</td>\n",
       "    </tr>\n",
       "    <tr>\n",
       "      <th>max</th>\n",
       "      <td>72.000000</td>\n",
       "      <td>18424.000000</td>\n",
       "      <td>4.000000</td>\n",
       "      <td>4.000000</td>\n",
       "      <td>75.000000</td>\n",
       "      <td>4.000000</td>\n",
       "      <td>2.000000</td>\n",
       "    </tr>\n",
       "  </tbody>\n",
       "</table>\n",
       "</div>"
      ],
      "text/plain": [
       "          duration  credit_amount  installment_commitment  residence_since  \\\n",
       "count  1000.000000    1000.000000             1000.000000      1000.000000   \n",
       "mean     20.903000    3271.258000                2.973000         2.845000   \n",
       "std      12.058814    2822.736876                1.118715         1.103718   \n",
       "min       4.000000     250.000000                1.000000         1.000000   \n",
       "25%      12.000000    1365.500000                2.000000         2.000000   \n",
       "50%      18.000000    2319.500000                3.000000         3.000000   \n",
       "75%      24.000000    3972.250000                4.000000         4.000000   \n",
       "max      72.000000   18424.000000                4.000000         4.000000   \n",
       "\n",
       "               age  existing_credits  num_dependents  \n",
       "count  1000.000000       1000.000000     1000.000000  \n",
       "mean     35.546000          1.407000        1.155000  \n",
       "std      11.375469          0.577654        0.362086  \n",
       "min      19.000000          1.000000        1.000000  \n",
       "25%      27.000000          1.000000        1.000000  \n",
       "50%      33.000000          1.000000        1.000000  \n",
       "75%      42.000000          2.000000        1.000000  \n",
       "max      75.000000          4.000000        2.000000  "
      ]
     },
     "execution_count": 6,
     "metadata": {},
     "output_type": "execute_result"
    }
   ],
   "source": [
    "data.describe()"
   ]
  },
  {
   "cell_type": "code",
   "execution_count": 7,
   "id": "1aba5183",
   "metadata": {},
   "outputs": [
    {
     "data": {
      "text/plain": [
       "<AxesSubplot:>"
      ]
     },
     "execution_count": 7,
     "metadata": {},
     "output_type": "execute_result"
    },
    {
     "data": {
      "image/png": "[encoded data removed]",
      "text/plain": [
       "<Figure size 432x288 with 2 Axes>"
      ]
     },
     "metadata": {
      "needs_background": "light"
     },
     "output_type": "display_data"
    }
   ],
   "source": [
    "sns.heatmap(data.corr())"
   ]
  },
  {
   "cell_type": "code",
   "execution_count": 8,
   "id": "62d5aba8",
   "metadata": {},
   "outputs": [
    {
     "data": {
      "text/plain": [
       "<AxesSubplot:>"
      ]
     },
     "execution_count": 8,
     "metadata": {},
     "output_type": "execute_result"
    },
    {
     "data": {
      "image/png": "[encoded data removed]",
      "text/plain": [
       "<Figure size 432x288 with 1 Axes>"
      ]
     },
     "metadata": {
      "needs_background": "light"
     },
     "output_type": "display_data"
    }
   ],
   "source": [
    "sns.heatmap(data.isnull(), yticklabels = False, cbar = False, cmap = \"viridis\")"
   ]
  },
  {
   "cell_type": "code",
   "execution_count": 9,
   "id": "f7859e90",
   "metadata": {},
   "outputs": [
    {
     "name": "stdout",
     "output_type": "stream",
     "text": [
      "checking_status ['<0' '0<=X<200' 'no checking' '>=200']\n",
      "duration [ 6. 48. 12. 42. 24. 36. 30. 15.  9. 10.  7. 60. 18. 45. 11. 27.  8. 54.\n",
      " 20. 14. 33. 21. 16.  4. 47. 13. 22. 39. 28.  5. 26. 72. 40.]\n",
      "credit_history ['critical/other existing credit' 'existing paid' 'delayed previously'\n",
      " 'no credits/all paid' 'all paid']\n",
      "purpose ['radio/tv' 'education' 'furniture/equipment' 'new car' 'used car'\n",
      " 'business' 'domestic appliance' 'repairs' 'other' 'retraining']\n",
      "credit_amount [ 1169.  5951.  2096.  7882.  4870.  9055.  2835.  6948.  3059.  5234.\n",
      "  1295.  4308.  1567.  1199.  1403.  1282.  2424.  8072. 12579.  3430.\n",
      "  2134.  2647.  2241.  1804.  2069.  1374.   426.   409.  2415.  6836.\n",
      "  1913.  4020.  5866.  1264.  1474.  4746.  6110.  2100.  1225.   458.\n",
      "  2333.  1158.  6204.  6187.  6143.  1393.  2299.  1352.  7228.  2073.\n",
      "  5965.  1262.  3378.  2225.   783.  6468.  9566.  1961.  6229.  1391.\n",
      "  1537.  1953. 14421.  3181.  5190.  2171.  1007.  1819.  2394.  8133.\n",
      "   730.  1164.  5954.  1977.  1526.  3965.  4771.  9436.  3832.  5943.\n",
      "  1213.  1568.  1755.  2315.  1412. 12612.  2249.  1108.   618.  1409.\n",
      "   797.  3617.  1318. 15945.  2012.  2622.  2337.  7057.  1469.  2323.\n",
      "   932.  1919.  2445. 11938.  6458.  6078.  7721.  1410.  1449.   392.\n",
      "  6260.  7855.  1680.  3578.  7174.  2132.  4281.  2366.  1835.  3868.\n",
      "  1768.   781.  1924.  2121.   701.   639.  1860.  3499.  8487.  6887.\n",
      "  2708.  1984. 10144.  1240.  8613.   766.  2728.  1881.   709.  4795.\n",
      "  3416.  2462.  2288.  3566.   860.   682.  5371.  1582.  1346.  5848.\n",
      "  7758.  6967.  1288.   339.  3512.  1898.  2872.  1055.  7308.   909.\n",
      "  2978.  1131.  1577.  3972.  1935.   950.   763.  2064.  1414.  3414.\n",
      "  7485.  2577.   338.  1963.   571.  9572.  4455.  1647.  3777.   884.\n",
      "  1360.  5129.  1175.   674.  3244.  4591.  3844.  3915.  2108.  3031.\n",
      "  1501.  1382.   951.  2760.  4297.   936.  1168.  5117.   902.  1495.\n",
      " 10623.  1424.  6568.  1413.  3074.  3835.  5293.  1908.  3342.  3104.\n",
      "  3913.  3021.  1364.   625.  1200.   707.  4657.  2613. 10961.  7865.\n",
      "  1478.  3149.  4210.  2507.  2141.   866.  1544.  1823. 14555.  2767.\n",
      "  1291.  2522.   915.  1595.  4605.  1185.  3447.  1258.   717.  1204.\n",
      "  1925.   433.   666.  2251.  2150.  4151.  2030.  7418.  2684.  2149.\n",
      "  3812.  1154.  1657.  1603.  5302.  2748.  1231.   802.  6304.  1533.\n",
      "  8978.   999.  2662.  1402. 12169.  3060. 11998.  2697.  2404.  4611.\n",
      "  1901.  3368.  1574.  1445.  1520.  3878. 10722.  4788.  7582.  1092.\n",
      "  1024.  1076.  9398.  6419.  4796.  7629.  9960.  4675.  1287.  2515.\n",
      "  2745.   672.  3804.  1344.  1038. 10127.  1543.  4811.   727.  1237.\n",
      "   276.  5381.  5511.  3749.   685.  1494.  2746.   708.  4351.  3643.\n",
      "  4249.  1938.  2910.  2659.  1028.  3398.  5801.  1525.  4473.  1068.\n",
      "  6615.  1864.  7408. 11590.  4110.  3384.  2101.  1275.  4169.  1521.\n",
      "  5743.  3599.  3213.  4439.  3949.  1459.   882.  3758.  1743.  1136.\n",
      "  1236.   959.  3229.  6199.  1246.  2331.  4463.   776.  2406.  1239.\n",
      "  3399.  2247.  1766.  2473.  1542.  3850.  3650.  3446.  3001.  3079.\n",
      "  6070.  2146. 13756. 14782.  7685.  2320.   846. 14318.   362.  2212.\n",
      " 12976.  1283.  1330.  4272.  2238.  1126.  7374.  2326.  1820.   983.\n",
      "  3249.  1957. 11760.  2578.  2348.  1223.  1516.  1473.  1887.  8648.\n",
      "  2899.  2039.  2197.  1053.  3235.   939.  1967.  7253.  2292.  1597.\n",
      "  1381.  5842.  2579.  8471.  2782.  1042.  3186.  2028.   958.  1591.\n",
      "  2762.  2779.  2743.  1149.  1313.  1190.  3448. 11328.  1872.  2058.\n",
      "  2136.  1484.   660.  3394.   609.  1884.  1620.  2629.   719.  5096.\n",
      "  1244.  1842.  2576.  1512. 11054.   518.  2759.  2670.  4817.  2679.\n",
      "  3905.  3386.   343.  4594.  3620.  1721.  3017.   754.  1950.  2924.\n",
      "  1659.  7238.  2764.  4679.  3092.   448.   654.  1238.  1245.  3114.\n",
      "  2569.  5152.  1037.  3573.  1201.  3622.   960.  1163.  1209.  3077.\n",
      "  3757.  1418.  3518.  1934.  8318.   368.  2122.  2996.  9034.  1585.\n",
      "  1301.  1323.  3123.  5493.  1216.  1207.  1309.  2360.  6850.  8588.\n",
      "   759.  4686.  2687.   585.  2255.  1361.  7127.  1203.   700.  5507.\n",
      "  3190.  7119.  3488.  1113.  7966.  1532.  1503.  2302.   662.  2273.\n",
      "  2631.  1311.  3105.  2319.  3612.  7763.  3049.  1534.  2032.  6350.\n",
      "  2864.  1255.  1333.  2022.  1552.   626.  8858.   996.  1750.  6999.\n",
      "  1995.  1331.  2278.  5003.  3552.  1928.  2964.  1546.   683. 12389.\n",
      "  4712.  1553.  1372.  3979.  6758.  3234.  5433.   806.  1082.  2788.\n",
      "  2930.  1927.  2820.   937.  1056.  3124.  1388.  2384.  2133.  2799.\n",
      "  1289.  1217.  2246.   385.  1965.  1572.  2718.  1358.   931.  1442.\n",
      "  4241.  2775.  3863.  2329.   918.  1837.  3349.  2828.  4526.  2671.\n",
      "  2051.  1300.   741.  3357.  3632.  1808. 12204.  9157.  3676.  3441.\n",
      "   640.  3652.  1530.  3914.  1858.  2600.  1979.  2116.  1437.  4042.\n",
      "  3660.  1444.  1980.  1355.  1376. 15653.  1493.  4370.   750.  1308.\n",
      "  4623.  1851.  1880.  7980.  4583.  1386.   947.   684.  7476.  1922.\n",
      "  2303.  8086.  2346.  3973.   888. 10222.  4221.  6361.  1297.   900.\n",
      "  1050.  1047.  6314.  3496.  3609.  4843.  4139.  5742. 10366.  2080.\n",
      "  2580.  4530.  5150.  5595.  1453.  1538.  2279.  5103.  9857.  6527.\n",
      "  1347.  2862.  2753.  3651.   975.  2896.  4716.  2284.  1103.   926.\n",
      "  1800.  1905.  1123.  6331.  1377.  2503.  2528.  5324.  6560.  2969.\n",
      "  1206.  2118.   629.  1198.  2476.  1138. 14027.  7596.  1505.  3148.\n",
      "  6148.  1337.  1228.   790.  2570.   250.  1316.  1882.  6416.  6403.\n",
      "  1987.   760.  2603.  3380.  3990. 11560.  4380.  6761.  4280.  2325.\n",
      "  1048.  3160.  2483. 14179.  1797.  2511.  1274.  5248.  3029.   428.\n",
      "   976.   841.  5771.  1555.  1285.  1299.  1271.   691.  5045.  2124.\n",
      "  2214. 12680.  2463.  1155.  3108.  2901.  1655.  2812.  8065.  3275.\n",
      "  2223.  1480.  1371.  3535.  3509.  5711.  3872.  4933.  1940.   836.\n",
      "  1941.  2675.  2751.  6224.  5998.  1188.  6313.  1221.  2892.  3062.\n",
      "  2301.  7511.  1549.  1795.  7472.  9271.   590.   930.  9283.  1778.\n",
      "   907.   484.  9629.  3051.  3931.  7432.  1338.  1554. 15857.  1345.\n",
      "  1101.  3016.  2712.   731.  3780.  1602.  3966.  4165.  8335.  6681.\n",
      "  2375. 11816.  5084.  2327.   886.   601.  2957.  2611.  5179.  2993.\n",
      "  1943.  1559.  3422.  3976.  1249.  2235.  1471. 10875.   894.  3343.\n",
      "  3959.  3577.  5804.  2169.  2439.  2210.  2221.  2389.  3331.  7409.\n",
      "   652.  7678.  1343.   874.  3590.  1322.  3595.  1422.  6742.  7814.\n",
      "  9277.  2181.  1098.  4057.   795.  2825. 15672.  6614.  7824.  2442.\n",
      "  1829.  5800.  8947.  2606.  1592.  2186.  4153.  2625.  3485. 10477.\n",
      "  1278.  1107.  3763.  3711.  3594.  3195.  4454.  4736.  2991.  2142.\n",
      "  3161. 18424.  2848. 14896.  2359.  3345.  1817. 12749.  1366.  2002.\n",
      "  6872.   697.  1049. 10297.  1867.  1747.  1670.  1224.   522.  1498.\n",
      "   745.  2063.  6288.  6842.  3527.   929.  1455.  1845.  8358.  2859.\n",
      "  3621.  2145.  4113. 10974.  1893.  3656.  4006.  3069.  1740.  2353.\n",
      "  3556.  2397.   454.  1715.  2520.  3568.  7166.  3939.  1514.  7393.\n",
      "  1193.  7297.  2831.   753.  2427.  2538.  8386.  4844.  2923.  8229.\n",
      "  1433.  6289.  6579.  3565.  1569.  1936.  2390.  1736.  3857.   804.\n",
      "  4576.]\n",
      "savings_status ['no known savings' '<100' '500<=X<1000' '>=1000' '100<=X<500']\n",
      "employment ['>=7' '1<=X<4' '4<=X<7' 'unemployed' '<1']\n",
      "installment_commitment [4. 2. 3. 1.]\n",
      "personal_status ['male single' 'female div/dep/mar' 'male div/sep' 'male mar/wid']\n",
      "other_parties ['none' 'guarantor' 'co applicant']\n",
      "residence_since [4. 2. 3. 1.]\n",
      "property_magnitude ['real estate' 'life insurance' 'no known property' 'car']\n",
      "age [67. 22. 49. 45. 53. 35. 61. 28. 25. 24. 60. 32. 44. 31. 48. 26. 36. 39.\n",
      " 42. 34. 63. 27. 30. 57. 33. 37. 58. 23. 29. 52. 50. 46. 51. 41. 40. 66.\n",
      " 47. 56. 54. 20. 21. 38. 70. 65. 74. 68. 43. 55. 64. 75. 19. 62. 59.]\n",
      "other_payment_plans ['none' 'bank' 'stores']\n",
      "housing ['own' 'for free' 'rent']\n",
      "existing_credits [2. 1. 3. 4.]\n",
      "job ['skilled' 'unskilled resident' 'high qualif/self emp/mgmt'\n",
      " 'unemp/unskilled non res']\n",
      "num_dependents [1. 2.]\n",
      "own_telephone ['yes' 'none']\n",
      "foreign_worker ['yes' 'no']\n",
      "class ['good' 'bad']\n"
     ]
    }
   ],
   "source": [
    "for x in data.columns:\n",
    "    print(x, data[x].unique())"
   ]
  },
  {
   "cell_type": "markdown",
   "id": "c91f9ecb",
   "metadata": {},
   "source": [
    "Look, I know I could do better with how I handle the categorical feature, but I already wrote the code halfway before finding the answer and I'm not changing it"
   ]
  },
  {
   "cell_type": "code",
   "execution_count": 10,
   "id": "91d99806",
   "metadata": {},
   "outputs": [],
   "source": [
    "checking_status = pd.get_dummies(data[\"checking_status\"], drop_first = True)\n",
    "checking_status.columns = [\"check_bet_200\", \"check_no_checking\", \"check_more_200\"]\n",
    "credit_history = pd.get_dummies(data[\"credit_history\"], drop_first = True)\n",
    "purpose = pd.get_dummies(data[\"purpose\"], drop_first = True)\n",
    "savings_status = pd.get_dummies(data[\"savings_status\"], drop_first = True)\n",
    "savings_status.columns = [\"savings_less_100\", \"savings_bet_1000\", \"savings_more_1000\", \"savings_bet_500\"]\n",
    "employment = pd.get_dummies(data[\"employment\"], drop_first = True)\n",
    "employment.columns = [\"employment_bet_4\", \"employment_bet_7\", \"employment_unemployed\", \"employment_less_1\"]\n",
    "installment_commitment = pd.get_dummies(data[\"installment_commitment\"], drop_first = True)\n",
    "installment_commitment.columns = [\"installment_2\", \"installment_3\", \"installment_1\"]\n",
    "personal_status = pd.get_dummies(data[\"personal_status\"], drop_first = True)\n",
    "other_parties = pd.get_dummies(data[\"other_parties\"], drop_first = True)\n",
    "residence_since = pd.get_dummies(data[\"residence_since\"], drop_first = True)\n",
    "residence_since.columns = [\"residence_2\", \"residence_3\", \"residence_1\"]\n",
    "property_magnitude = pd.get_dummies(data[\"property_magnitude\"], drop_first = True)\n",
    "other_payment_plans = pd.get_dummies(data[\"other_payment_plans\"], drop_first = True)\n",
    "housing = pd.get_dummies(data[\"housing\"], drop_first = True)\n",
    "existing_credits = pd.get_dummies(data[\"existing_credits\"], drop_first = True)\n",
    "existing_credits.columns = [\"existing_1\", \"existing_3\", \"existing_4\"]\n",
    "job = pd.get_dummies(data[\"job\"], drop_first = True)\n",
    "num_dependents = pd.get_dummies(data[\"num_dependents\"], drop_first = True)\n",
    "num_dependents.columns = [\"dependents_2\"]\n",
    "own_telephone = pd.get_dummies(data[\"own_telephone\"], drop_first = True)\n",
    "foreign_worker = pd.get_dummies(data[\"foreign_worker\"], drop_first = True)"
   ]
  },
  {
   "cell_type": "code",
   "execution_count": 11,
   "id": "37c5b783",
   "metadata": {},
   "outputs": [],
   "source": [
    "data = pd.concat([data, checking_status, credit_history, purpose, savings_status, employment, installment_commitment, personal_status, other_parties, residence_since, property_magnitude, other_payment_plans, housing, existing_credits, job, num_dependents, own_telephone, foreign_worker], axis = 1)"
   ]
  },
  {
   "cell_type": "code",
   "execution_count": 12,
   "id": "83adbc35",
   "metadata": {},
   "outputs": [],
   "source": [
    "data.drop([\"checking_status\", \"credit_history\", \"purpose\", \"savings_status\", \"employment\", \"installment_commitment\", \"personal_status\", \"other_parties\", \"residence_since\", \"property_magnitude\", \"other_payment_plans\", \"housing\", \"existing_credits\", \"job\", \"num_dependents\", \"own_telephone\", \"foreign_worker\"], axis = 1, inplace = True)"
   ]
  },
  {
   "cell_type": "markdown",
   "id": "51fd7d3c",
   "metadata": {},
   "source": [
    "Now that the data is looking better, I decided to choose random forest to predict the class because of the number of feature"
   ]
  },
  {
   "cell_type": "code",
   "execution_count": 13,
   "id": "43009c12",
   "metadata": {},
   "outputs": [],
   "source": [
    "X = data.drop(\"class\", axis = 1)\n",
    "y = data[\"class\"]"
   ]
  },
  {
   "cell_type": "code",
   "execution_count": 14,
   "id": "3b55eb71",
   "metadata": {},
   "outputs": [],
   "source": [
    "X_train, X_test, y_train, y_test = train_test_split(X, y, test_size=0.3, random_state=69)"
   ]
  },
  {
   "cell_type": "code",
   "execution_count": 15,
   "id": "6c9fece8",
   "metadata": {},
   "outputs": [],
   "source": [
    "random_forest = RandomForestClassifier(n_estimators = 300)"
   ]
  },
  {
   "cell_type": "code",
   "execution_count": 16,
   "id": "eae3be14",
   "metadata": {},
   "outputs": [
    {
     "data": {
      "text/plain": [
       "RandomForestClassifier(n_estimators=300)"
      ]
     },
     "execution_count": 16,
     "metadata": {},
     "output_type": "execute_result"
    }
   ],
   "source": [
    "random_forest.fit(X_train, y_train)"
   ]
  },
  {
   "cell_type": "code",
   "execution_count": 17,
   "id": "a0ff8884",
   "metadata": {},
   "outputs": [],
   "source": [
    "predictions = random_forest.predict(X_test)"
   ]
  },
  {
   "cell_type": "code",
   "execution_count": 18,
   "id": "62b486fb",
   "metadata": {},
   "outputs": [
    {
     "name": "stdout",
     "output_type": "stream",
     "text": [
      "[[ 28  50]\n",
      " [ 26 196]] \n",
      "\n",
      "               precision    recall  f1-score   support\n",
      "\n",
      "         bad       0.52      0.36      0.42        78\n",
      "        good       0.80      0.88      0.84       222\n",
      "\n",
      "    accuracy                           0.75       300\n",
      "   macro avg       0.66      0.62      0.63       300\n",
      "weighted avg       0.72      0.75      0.73       300\n",
      "\n"
     ]
    }
   ],
   "source": [
    "print(confusion_matrix(y_test, predictions), \"\\n\\n\", classification_report(y_test, predictions))"
   ]
  },
  {
   "cell_type": "code",
   "execution_count": 19,
   "id": "87a72d17",
   "metadata": {},
   "outputs": [
    {
     "data": {
      "text/plain": [
       "good    700\n",
       "bad     300\n",
       "Name: class, dtype: int64"
      ]
     },
     "execution_count": 19,
     "metadata": {},
     "output_type": "execute_result"
    }
   ],
   "source": [
    "data[\"class\"].value_counts()"
   ]
  },
  {
   "cell_type": "markdown",
   "id": "5a58d39f",
   "metadata": {},
   "source": [
    "Overall, I can see that:\n",
    "1. The predictions are looking better although the score for the \"bad\" class is not looking very good, but overall accepatble\n",
    "2. After looking extensively, the difference of data count between \"good\" and \"bad\" class is not balanced, which can affect the predictions"
   ]
  }
 ],
 "metadata": {
  "kernelspec": {
   "display_name": "Python 3 (ipykernel)",
   "language": "python",
   "name": "python3"
  },
  "language_info": {
   "codemirror_mode": {
    "name": "ipython",
    "version": 3
   },
   "file_extension": ".py",
   "mimetype": "text/x-python",
   "name": "python",
   "nbconvert_exporter": "python",
   "pygments_lexer": "ipython3",
   "version": "3.9.12"
  }
 },
 "nbformat": 4,
 "nbformat_minor": 5
}
